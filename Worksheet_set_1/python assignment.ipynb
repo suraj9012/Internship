{
 "cells": [
  {
   "cell_type": "markdown",
   "id": "d3121717",
   "metadata": {},
   "source": [
    "# WORKSHEET 1\n",
    "PYTHON "
   ]
  },
  {
   "cell_type": "markdown",
   "id": "4bffe7d5",
   "metadata": {},
   "source": [
    "1. C] %\n",
    "2. B] 0\n",
    "3. C] 24\n",
    "4. A] 2\n",
    "5. D] 6\n",
    "6. C] the finally block will be executed no matter if the try block raises an error or not.\n",
    "7. A] It is used to raise an exception.\n",
    "8. C]  in defining a generator\n",
    "9. (A)_abc ,(C) abc2\n",
    "10. (A) yield, (B) raise"
   ]
  },
  {
   "cell_type": "code",
   "execution_count": 2,
   "id": "a99c7362",
   "metadata": {},
   "outputs": [
    {
     "name": "stdout",
     "output_type": "stream",
     "text": [
      "enter the number to find the factorial18\n",
      "The factorial is  6402373705728000\n"
     ]
    }
   ],
   "source": [
    "# Q 11.Program to find the factorial of a no.\n",
    "\n",
    "n=int(input(\"enter the number to find the factorial\"))\n",
    "def fact(n):\n",
    "    \n",
    "    if n==1 :\n",
    "        return 1\n",
    "    else :\n",
    "        return n*fact(n-1)\n",
    "    \n",
    "if n<0 :\n",
    "    print(\" number is negative . factorial not possible\")\n",
    "elif n==0:\n",
    "    print(\"The factorial is \",1)\n",
    "else:\n",
    "     print(\"The factorial is \",fact(n))"
   ]
  },
  {
   "cell_type": "code",
   "execution_count": 3,
   "id": "1ea61b04",
   "metadata": {},
   "outputs": [
    {
     "name": "stdout",
     "output_type": "stream",
     "text": [
      "enter the number56\n",
      "Number is composite\n"
     ]
    }
   ],
   "source": [
    "# Q 12.Program to check whether entered number is a prime number or a composite number\n",
    "\n",
    "n=int(input('enter the number'))\n",
    "if n==0 or n==1:\n",
    "    print(\"neither prime nor composite\")\n",
    "else:\n",
    "    k=[]\n",
    "    for i in range(1,n):\n",
    "        if n%i==0:\n",
    "            k.append(i)\n",
    "    if len(k)<=2:\n",
    "        print(\"Number is prime\")\n",
    "        \n",
    "    else :\n",
    "        print(\"Number is composite\")  "
   ]
  },
  {
   "cell_type": "code",
   "execution_count": 5,
   "id": "dbfb5b94",
   "metadata": {},
   "outputs": [
    {
     "name": "stdout",
     "output_type": "stream",
     "text": [
      "Enter the string suraj\n",
      "the string is not palindrome\n"
     ]
    }
   ],
   "source": [
    "# Q 13. program to check whether a given string is palindrome or not\n",
    "\n",
    "string=input(\"Enter the string \")\n",
    "rev_string=\"\"\n",
    "for i in range(1,len(string)+1):\n",
    "    rev_string=rev_string+string.lower()[-i]\n",
    "if rev_string==string:\n",
    "    print(\"the string is palindrome\")\n",
    "else :\n",
    "    print(\"the string is not palindrome\")"
   ]
  },
  {
   "cell_type": "code",
   "execution_count": 12,
   "id": "79e5c259",
   "metadata": {},
   "outputs": [
    {
     "name": "stdout",
     "output_type": "stream",
     "text": [
      "enter the base of the right angled triangle 4\n",
      "enter the perpendicular of the right angled triangle 5\n",
      "the length of hypotenuse is  6.4031242374328485\n"
     ]
    }
   ],
   "source": [
    "# Q14. program to get the third side of right-angled triangle from two given sides\n",
    "import math\n",
    "a=int(input(\"enter the base of the right angled triangle \"))\n",
    "b=int(input(\"enter the perpendicular of the right angled triangle \"))\n",
    "length=math.sqrt(a**2+b**2)\n",
    "print(\"the length of hypotenuse is \",length)"
   ]
  },
  {
   "cell_type": "code",
   "execution_count": 13,
   "id": "a3dcc3b1",
   "metadata": {},
   "outputs": [
    {
     "name": "stdout",
     "output_type": "stream",
     "text": [
      "Enter the stringrahul\n",
      " The frequencies of characters in the string are {'r': 1, 'a': 1, 'h': 1, 'u': 1, 'l': 1}\n"
     ]
    }
   ],
   "source": [
    "# Q15.program to print the frequency of each of the characters present in a given string\n",
    "\n",
    "string=input(\"Enter the string\")\n",
    "freq=dict()\n",
    "for i in string :\n",
    "    if i in freq.keys():\n",
    "        freq[i]=freq[i]+1\n",
    "    else :\n",
    "        freq[i]=1\n",
    "print(\" The frequencies of characters in the string are\", freq)"
   ]
  },
  {
   "cell_type": "code",
   "execution_count": null,
   "id": "c425b133",
   "metadata": {},
   "outputs": [],
   "source": []
  }
 ],
 "metadata": {
  "kernelspec": {
   "display_name": "Python 3",
   "language": "python",
   "name": "python3"
  },
  "language_info": {
   "codemirror_mode": {
    "name": "ipython",
    "version": 3
   },
   "file_extension": ".py",
   "mimetype": "text/x-python",
   "name": "python",
   "nbconvert_exporter": "python",
   "pygments_lexer": "ipython3",
   "version": "3.8.8"
  }
 },
 "nbformat": 4,
 "nbformat_minor": 5
}
